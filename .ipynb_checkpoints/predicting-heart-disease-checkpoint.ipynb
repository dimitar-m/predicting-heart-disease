{
 "cells": [
  {
   "cell_type": "code",
   "execution_count": 1,
   "id": "e2c0ede8-e73d-47ac-99c5-fc4ed48f10f4",
   "metadata": {
    "editable": true,
    "slideshow": {
     "slide_type": ""
    },
    "tags": []
   },
   "outputs": [
    {
     "name": "stdout",
     "output_type": "stream",
     "text": [
      "<class 'pandas.core.frame.DataFrame'>\n",
      "RangeIndex: 918 entries, 0 to 917\n",
      "Data columns (total 12 columns):\n",
      " #   Column          Non-Null Count  Dtype  \n",
      "---  ------          --------------  -----  \n",
      " 0   Age             918 non-null    int64  \n",
      " 1   Sex             918 non-null    object \n",
      " 2   ChestPainType   918 non-null    object \n",
      " 3   RestingBP       918 non-null    int64  \n",
      " 4   Cholesterol     918 non-null    int64  \n",
      " 5   FastingBS       918 non-null    int64  \n",
      " 6   RestingECG      918 non-null    object \n",
      " 7   MaxHR           918 non-null    int64  \n",
      " 8   ExerciseAngina  918 non-null    object \n",
      " 9   Oldpeak         918 non-null    float64\n",
      " 10  ST_Slope        918 non-null    object \n",
      " 11  HeartDisease    918 non-null    int64  \n",
      "dtypes: float64(1), int64(6), object(5)\n",
      "memory usage: 86.2+ KB\n",
      "None\n",
      "              Age   RestingBP  Cholesterol   FastingBS       MaxHR  \\\n",
      "count  918.000000  918.000000   918.000000  918.000000  918.000000   \n",
      "mean    53.510893  132.396514   198.799564    0.233115  136.809368   \n",
      "std      9.432617   18.514154   109.384145    0.423046   25.460334   \n",
      "min     28.000000    0.000000     0.000000    0.000000   60.000000   \n",
      "25%     47.000000  120.000000   173.250000    0.000000  120.000000   \n",
      "50%     54.000000  130.000000   223.000000    0.000000  138.000000   \n",
      "75%     60.000000  140.000000   267.000000    0.000000  156.000000   \n",
      "max     77.000000  200.000000   603.000000    1.000000  202.000000   \n",
      "\n",
      "          Oldpeak  HeartDisease  \n",
      "count  918.000000    918.000000  \n",
      "mean     0.887364      0.553377  \n",
      "std      1.066570      0.497414  \n",
      "min     -2.600000      0.000000  \n",
      "25%      0.000000      0.000000  \n",
      "50%      0.600000      1.000000  \n",
      "75%      1.500000      1.000000  \n",
      "max      6.200000      1.000000  \n",
      "Age               0\n",
      "Sex               0\n",
      "ChestPainType     0\n",
      "RestingBP         0\n",
      "Cholesterol       0\n",
      "FastingBS         0\n",
      "RestingECG        0\n",
      "MaxHR             0\n",
      "ExerciseAngina    0\n",
      "Oldpeak           0\n",
      "ST_Slope          0\n",
      "HeartDisease      0\n",
      "dtype: int64\n"
     ]
    },
    {
     "data": {
      "image/png": "[encoded data removed]",
      "text/plain": [
       "<Figure size 640x480 with 1 Axes>"
      ]
     },
     "metadata": {},
     "output_type": "display_data"
    }
   ],
   "source": [
    "import pandas as pd\n",
    "import matplotlib.pyplot as plt\n",
    "import seaborn as sns\n",
    "%matplotlib inline\n",
    "\n",
    "# Load dataset\n",
    "df = pd.read_csv(\"heart_disease_prediction.csv\")\n",
    "\n",
    "# Basic info\n",
    "print(df.info())\n",
    "print(df.describe())\n",
    "\n",
    "# Check for missing values\n",
    "print(df.isnull().sum())\n",
    "\n",
    "# Visualizing the target variable distribution\n",
    "sns.countplot(x=df['HeartDisease'])\n",
    "plt.title('Distribution of Heart Disease Cases')\n",
    "plt.show()"
   ]
  },
  {
   "cell_type": "code",
   "execution_count": null,
   "id": "4d12d7d4-a242-4e0f-8095-524ab7c34ca8",
   "metadata": {},
   "outputs": [],
   "source": []
  }
 ],
 "metadata": {
  "kernelspec": {
   "display_name": "Python 3 (ipykernel)",
   "language": "python",
   "name": "python3"
  },
  "language_info": {
   "codemirror_mode": {
    "name": "ipython",
    "version": 3
   },
   "file_extension": ".py",
   "mimetype": "text/x-python",
   "name": "python",
   "nbconvert_exporter": "python",
   "pygments_lexer": "ipython3",
   "version": "3.12.2"
  }
 },
 "nbformat": 4,
 "nbformat_minor": 5
}
